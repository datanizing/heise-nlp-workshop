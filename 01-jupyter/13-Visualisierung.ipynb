{
 "cells": [
  {
   "cell_type": "markdown",
   "id": "f3caedea",
   "metadata": {},
   "source": [
    "# Visualisierung"
   ]
  },
  {
   "cell_type": "markdown",
   "id": "6cebf670",
   "metadata": {},
   "source": [
    "Wenn du in Jupyter-Notebooks viel mit Daten arbeitest, spielt die *Darstellung der Daten* automatisch eine große Rolle. Wenn du intuitive Visualisierungen findest, wird es dir leicht fallen, den Sinn der Daten schnell zu vermitteln.\n",
    "\n",
    "In diesem Notebook wirst du die gleichen Daten verwenden wie im letzten, nämlich die Konsumindikatoren von *Eurostat*. Im ersten Schritt lädst du die Daten herunter und benennst die Spalten um:"
   ]
  },
  {
   "cell_type": "code",
   "execution_count": 1,
   "id": "8c333d00",
   "metadata": {},
   "outputs": [],
   "source": [
    "import pandas as pd\n",
    "import eurostat\n",
    "df = eurostat.get_data_df(\"ei_bsco_m\")\n",
    "df = df.rename(columns={\"geo\\\\TIME_PERIOD\": \"country\"})"
   ]
  },
  {
   "cell_type": "markdown",
   "id": "4159ebf9",
   "metadata": {},
   "source": [
    "Anschließend änderst du den Typ der Monatsspalten auf ein Datum:"
   ]
  },
  {
   "cell_type": "code",
   "execution_count": 2,
   "id": "c2a4d78f",
   "metadata": {},
   "outputs": [],
   "source": [
    "from datetime import datetime\n",
    "df.columns = [datetime.strptime(f.split(\"-\")[0] + \"-\" + f.split(\"-\")[1] + \"-01\", \"%Y-%m-%d\")\n",
    "                if f.startswith(\"20\") or f.startswith(\"19\") else f for f in df.columns]"
   ]
  },
  {
   "cell_type": "markdown",
   "id": "1cc5f592",
   "metadata": {},
   "source": [
    "*Eurostat* verwendet viele Abkürzungen, bietet dazu aber auch Erklärungen an. Manchmal ist es besser, wenn du die Länder mit ihren echten Namen darstellst. `Germany` ersetzt du hier von Hand, weil sonst ein sehr langer Name (`Germany (until 1990 former territory of the FRG)`) verwendet wird."
   ]
  },
  {
   "cell_type": "code",
   "execution_count": 7,
   "id": "4ede621d",
   "metadata": {},
   "outputs": [],
   "source": [
    "rg = eurostat.get_dic(\"ei_bsco_m\", 'geo')\n",
    "realnames_g = { k: v for (k, v) in realnames_g }\n",
    "realnames_g['DE'] = \"Germany\"\n",
    "realnames_g['EA19'] = \"EURO\"\n",
    "realnames_g['EU27_2020'] = \"EU\""
   ]
  },
  {
   "cell_type": "markdown",
   "id": "ff562fdf",
   "metadata": {},
   "source": [
    "## Zeitserien"
   ]
  },
  {
   "cell_type": "markdown",
   "id": "d331ed8d",
   "metadata": {},
   "source": [
    "Nun hast du alles bereit, um die erste *Zeitserie* zu visualisieren. Zeitserien werden (fast) immer als *Liniendiagramme* dargestellt. Dazu muss du `pandas` gar nicht sagen, das passiert ganz automatisch: "
   ]
  },
  {
   "cell_type": "code",
   "execution_count": null,
   "id": "55a9d041",
   "metadata": {},
   "outputs": [],
   "source": [
    "de_cci = df[(df[\"country\"] == \"DE\") & (df[\"indic\"] == \"BS-CSMCI\") & (df[\"s_adj\"] == \"SA\")]\n",
    "de_cci = de_cci[[c for c in de_cci.columns if isinstance(c, datetime) and (c.year>=2019)]]\n",
    "de_cci.T.plot()"
   ]
  },
  {
   "cell_type": "markdown",
   "id": "84471c3e",
   "metadata": {},
   "source": [
    "## Multi-Zeitserien"
   ]
  },
  {
   "cell_type": "markdown",
   "id": "fc660cf9",
   "metadata": {},
   "source": [
    "Der Konsumindikator für Deutschland ist zwar interessant, aber spannender ist es, wenn du unterschiedliche Länder vergleichen kannst. Mithilfe von `isin` kannst du unterschiedliche Optionen zulassen. Den Zeitraum wählst du jetzt ab 2000, um noch mehr Konjunkturkrisen und ihre Auswirkungen sehen zu können:"
   ]
  },
  {
   "cell_type": "code",
   "execution_count": null,
   "id": "85d0db88",
   "metadata": {},
   "outputs": [],
   "source": [
    "# Länder wählen\n",
    "cci_mix = df[(df[\"country\"].isin([\"DE\", \"EA19\", \"SE\"])) & \n",
    "             (df[\"indic\"] == \"BS-CSMCI\") & (df[\"s_adj\"] == \"SA\")]\n",
    "\n",
    "# nur bestimmte Spalte behalten und transponieren (Zeit nach unten)\n",
    "cci_mix = cci_mix[[c for c in cci_mix.columns \n",
    "                     if (isinstance(c, datetime) and c.year>=2000) or c == \"country\"]].set_index(\"country\").transpose()"
   ]
  },
  {
   "cell_type": "code",
   "execution_count": null,
   "id": "ffd1478f",
   "metadata": {},
   "outputs": [],
   "source": [
    "cci_mix.plot()"
   ]
  },
  {
   "cell_type": "markdown",
   "id": "856c52d2",
   "metadata": {},
   "source": [
    "## Barplot"
   ]
  },
  {
   "cell_type": "markdown",
   "id": "ca17f189",
   "metadata": {},
   "source": [
    "Liniendiagramme eignen sich sehr gut, wenn die x-Achse ein Zeit darstellt. Wenn du kategorische Informationen auf der x-Achse verwenden willst, sind *Barplots* besser geeignet.\n",
    "\n",
    "Als Beispiel stellst du hier die Verteilung des Konsumindikators für den 1.1.2021 über die unterschiedlichen Länder dar:"
   ]
  },
  {
   "cell_type": "code",
   "execution_count": null,
   "id": "94da9af0",
   "metadata": {},
   "outputs": [],
   "source": [
    "cci = df[(df[\"indic\"] == \"BS-CSMCI\") & (df[\"s_adj\"] == \"SA\")]\n",
    "cci = cci[[\"country\", datetime(2021,1,1)]].set_index(\"country\")\n",
    "# echte Namen verwenden\n",
    "cci.index = [realnames_g[i] for i in cci.index]\n",
    "cci.plot.barh(figsize=(9, 9))"
   ]
  },
  {
   "cell_type": "markdown",
   "id": "c646cbb8",
   "metadata": {},
   "source": [
    "Wenn du möchtest, kannst du die Werte auch noch absteigend sortieren:"
   ]
  },
  {
   "cell_type": "code",
   "execution_count": null,
   "id": "c80f4d53",
   "metadata": {},
   "outputs": [],
   "source": [
    "cci.sort_values(datetime(2021,1,1)).plot.barh(figsize=(9, 9))"
   ]
  },
  {
   "cell_type": "markdown",
   "id": "eb973ade",
   "metadata": {},
   "source": [
    "## Histogramm"
   ]
  },
  {
   "cell_type": "markdown",
   "id": "6cf7ac5a",
   "metadata": {},
   "source": [
    "Wenn du dich für die Verteilung der Werte interessiert, ist das *Histogramm* ein geeignetes Instrument zur Visualisierung. Es sieht einem *Barplot* sehr ähnlich, allerdings *zählt* es immer Werte:"
   ]
  },
  {
   "cell_type": "code",
   "execution_count": null,
   "id": "c4d45799",
   "metadata": {
    "scrolled": true
   },
   "outputs": [],
   "source": [
    "cci.plot.hist()"
   ]
  },
  {
   "cell_type": "markdown",
   "id": "f4194e11",
   "metadata": {},
   "source": [
    "Die Werte zwischen -20 und -20 sind also am häufigsten.\n",
    "\n",
    "Die Schritte auf der x-Achse kannst du mit dem Parameter `bins` beeinflussen. Probier das einfach mal aus!"
   ]
  },
  {
   "cell_type": "markdown",
   "id": "e925831e",
   "metadata": {},
   "source": [
    "## Boxplots"
   ]
  },
  {
   "cell_type": "markdown",
   "id": "bc56c645",
   "metadata": {},
   "source": [
    "Oft wirst du dich auch für die *Streuung der Werte* interessieren. Dafür eignen sich sog. *Boxplots*. Als Ausgangsbasis betrachtest du einen einzelnen Konsumindikator für viele Länder:"
   ]
  },
  {
   "cell_type": "code",
   "execution_count": null,
   "id": "cce294b1",
   "metadata": {},
   "outputs": [],
   "source": [
    "csmci = df[(df[\"indic\"] == \"BS-CSMCI\") & (df[\"s_adj\"] == \"SA\")]\n",
    "csmci"
   ]
  },
  {
   "cell_type": "markdown",
   "id": "c4929c94",
   "metadata": {},
   "source": [
    "Die Daten haben leider nicht das richtig Format für den Boxplot. Dazu müssen die Datensätze *untereinander* stehen. Du brauchst nun das Gegenteil von `pivot`, das sich in `pandas` mit der Funktion `melt` erreichen lässt. Du möchtest als Spalten `country`  (schon da) und `month` verwenden (das waren bisher individuelle Spalten). Dich interessiert nur der Wert `csmci`:"
   ]
  },
  {
   "cell_type": "code",
   "execution_count": null,
   "id": "c51a5504",
   "metadata": {},
   "outputs": [],
   "source": [
    "columns = [c for c in csmci.columns if isinstance(c, datetime) and (c.year>=2010)]\n",
    "\n",
    "csmci_unwrapped = pd.melt(csmci[[\"country\"] + columns].dropna(), \n",
    "                          id_vars=[\"country\"], var_name=\"month\", value_name=\"csmci\")\n",
    "csmci_unwrapped"
   ]
  },
  {
   "cell_type": "markdown",
   "id": "4b128d96",
   "metadata": {},
   "source": [
    "Diese Daten kannst du nun mithilfe von `seaborn` als Boxplot darstellen. Du erkennst den Median, Quantile, Extremwerte und Ausreißer."
   ]
  },
  {
   "cell_type": "code",
   "execution_count": null,
   "id": "7eab91e2",
   "metadata": {},
   "outputs": [],
   "source": [
    "import matplotlib.pyplot as plt\n",
    "import seaborn as sns\n",
    "csmci_unwrapped[\"country\"] = [realnames_g[i] for i in csmci_unwrapped[\"country\"]]\n",
    "plt.figure(figsize=(8, 10))\n",
    "sns.boxplot(y=\"country\", x=\"csmci\", data=csmci_unwrapped, palette=\"viridis\")"
   ]
  },
  {
   "cell_type": "markdown",
   "id": "50ad35e9",
   "metadata": {},
   "source": [
    "Eine etwas schönere Darstellung erreichst du durch die Sortierung der Länder nach den Medianen des Konsumindikators:"
   ]
  },
  {
   "cell_type": "code",
   "execution_count": null,
   "id": "6cd4c98f",
   "metadata": {},
   "outputs": [],
   "source": [
    "labels = csmci_unwrapped.groupby(\"country\").agg({\"csmci\": \"median\"}).sort_values(\"csmci\").index.values\n",
    "plt.figure(figsize=(8, 10))\n",
    "sns.boxplot(y=\"country\", x=\"csmci\", data=csmci_unwrapped, order=labels, palette=\"viridis\")"
   ]
  },
  {
   "cell_type": "markdown",
   "id": "396fc894",
   "metadata": {},
   "source": [
    "## Korrelationen"
   ]
  },
  {
   "cell_type": "markdown",
   "id": "3cceb282",
   "metadata": {},
   "source": [
    "Wie du in den Tabellen gesehen hast, gibt es sehr viele unterschiedliche Konsumindikatoren. In der Datenanalyse wirst du oft mit der Fragestellung konfrontiert, ob diese alle unabhängig voneinander sind. Das kann eine *Korrelationsanalyse* klären.\n",
    "\n",
    "Dazu betrachtest du die Konsumindikatoren für Deutschland und transponierst das Ergebnis (die Zeiten sollen in den Zeilen stehen):"
   ]
  },
  {
   "cell_type": "code",
   "execution_count": null,
   "id": "fe557c96",
   "metadata": {},
   "outputs": [],
   "source": [
    "de = df[(df[\"s_adj\"] == \"SA\") & (df[\"country\"] == \"DE\")].set_index(\"indic\")[columns].transpose()\n",
    "de"
   ]
  },
  {
   "cell_type": "markdown",
   "id": "5876edeb",
   "metadata": {},
   "source": [
    "Ein sog. *Scatterplot* gibt dir ein erstes Verständnis, ob und wie die Werte korreliert sein könnten:"
   ]
  },
  {
   "cell_type": "code",
   "execution_count": null,
   "id": "c92377ab",
   "metadata": {},
   "outputs": [],
   "source": [
    "de.plot.scatter(x=\"BS-SFSH\", y=\"BS-CSMCI\")"
   ]
  },
  {
   "cell_type": "markdown",
   "id": "857eab7d",
   "metadata": {},
   "source": [
    "Etwas besser kannst du das noch mit `seaborn` darstellen. Hier erhältst du noch eine Regressionsgerade und die Verteilung der Indikatoren als Histogramm:"
   ]
  },
  {
   "cell_type": "code",
   "execution_count": null,
   "id": "251719c3",
   "metadata": {},
   "outputs": [],
   "source": [
    "sns.jointplot(x=de[\"BS-SFSH\"], y=de[\"BS-CSMCI\"], scatter=False, kind=\"reg\")"
   ]
  },
  {
   "cell_type": "markdown",
   "id": "82fe3e1f",
   "metadata": {},
   "source": [
    "Wenn du die Abhängigkeit noch genauer berechnen willst, kannst du die lineare Regression durch `scipy` durchführen lassen:"
   ]
  },
  {
   "cell_type": "code",
   "execution_count": null,
   "id": "b1c39fa0",
   "metadata": {},
   "outputs": [],
   "source": [
    "from scipy.stats import linregress\n",
    "linregress(de[\"BS-SFSH\"], de[\"BS-CSMCI\"])"
   ]
  },
  {
   "cell_type": "markdown",
   "id": "29c2a22a",
   "metadata": {},
   "source": [
    "## Geodaten"
   ]
  },
  {
   "cell_type": "markdown",
   "id": "6943aac4",
   "metadata": {},
   "source": [
    "Bisher hast du eine wesentliche Dimension der Daten noch gar nicht berücksichtigt, nämlich die Geografie. Zum Glück geht das in Python auch ziemlich einfach, es gibt eine gute Integration in `pandas`, die sich `geopandas` nennt:"
   ]
  },
  {
   "cell_type": "code",
   "execution_count": null,
   "id": "ade1bb94",
   "metadata": {},
   "outputs": [],
   "source": [
    "!pip install geopandas"
   ]
  },
  {
   "cell_type": "markdown",
   "id": "876dc449",
   "metadata": {},
   "source": [
    "Konturen für Länder findest du im sog. [GeoJSON](https://de.wikipedia.org/wiki/GeoJSON)-Format. Wir haben die GeoJSON-Daten für Europa schon mal zusammengestellt:"
   ]
  },
  {
   "cell_type": "code",
   "execution_count": null,
   "id": "c05d4a88",
   "metadata": {},
   "outputs": [],
   "source": [
    "import geopandas\n",
    "bl_geo = geopandas.read_file(\"europe.geo.json\")\n",
    "bl_geo.plot(figsize=(10,10))"
   ]
  },
  {
   "cell_type": "markdown",
   "id": "aae0584d",
   "metadata": {},
   "source": [
    "Das sieht schon ganz gut aus! Zum Glück ist der `GeoDataFrame` auch eine Art `DataFrame`, so dass du ihn problemlos mittels `merge` mit dem `DataFrame` der Konsumindikatoren verbinden kannst. Da die Spalten nicht die gleichen Namen haben, musst du einmal `country` und einmal `iso_a2` angeben. Der `outer`-Join führt dazu, dass keine Länder wegfallen, die nicht zur EU gehören.\n"
   ]
  },
  {
   "cell_type": "code",
   "execution_count": null,
   "id": "ac07b02c",
   "metadata": {},
   "outputs": [],
   "source": [
    "hm = df[(df[\"indic\"] == \"BS-CSMCI\") & (df[\"s_adj\"] == \"SA\")]\n",
    "ghm = pd.merge(hm, bl_geo, left_on=\"country\", right_on='iso_a2', how=\"outer\")\n",
    "ghm"
   ]
  },
  {
   "cell_type": "markdown",
   "id": "d809b8b1",
   "metadata": {},
   "source": [
    "Du siehst, dass sich eine neue Spalte `geometry` ergeben hat. Um diese wieder als Geodaten plotten zu können, musst du sie nun wieder in einen `GeoDataFrame` wandeln:"
   ]
  },
  {
   "cell_type": "code",
   "execution_count": null,
   "id": "4f225c03",
   "metadata": {},
   "outputs": [],
   "source": [
    "geopandas.GeoDataFrame(ghm).plot(column=datetime(2021, 1, 1), \n",
    "         legend=True, \n",
    "         legend_kwds={'orientation': \"horizontal\"}, \n",
    "         missing_kwds={\n",
    "           \"color\": \"lightgrey\",\n",
    "    },\n",
    "         figsize=(10,10))"
   ]
  },
  {
   "cell_type": "markdown",
   "id": "9e77d269",
   "metadata": {},
   "source": [
    "Das Ergebnis sieht richtig toll aus! Im Vergleich zu den bisherigen Daten kannst du auch gut das Nord-Süd-Gefälle in der EU erkennen, nur Serbien tanzt etwas aus der Reihe."
   ]
  }
 ],
 "metadata": {
  "kernelspec": {
   "display_name": "Python 3",
   "language": "python",
   "name": "python3"
  },
  "language_info": {
   "codemirror_mode": {
    "name": "ipython",
    "version": 3
   },
   "file_extension": ".py",
   "mimetype": "text/x-python",
   "name": "python",
   "nbconvert_exporter": "python",
   "pygments_lexer": "ipython3",
   "version": "3.8.10"
  },
  "toc": {
   "base_numbering": 1,
   "nav_menu": {},
   "number_sections": true,
   "sideBar": true,
   "skip_h1_title": false,
   "title_cell": "Table of Contents",
   "title_sidebar": "Contents",
   "toc_cell": false,
   "toc_position": {},
   "toc_section_display": true,
   "toc_window_display": false
  }
 },
 "nbformat": 4,
 "nbformat_minor": 5
}
